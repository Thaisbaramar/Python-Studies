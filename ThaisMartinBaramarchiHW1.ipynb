{
 "cells": [
  {
   "cell_type": "code",
   "execution_count": 133,
   "metadata": {},
   "outputs": [
    {
     "name": "stdout",
     "output_type": "stream",
     "text": [
      "Thaís Martin Baramarchi\n",
      "0x6f9a1607937493\n"
     ]
    }
   ],
   "source": [
    "import random\n",
    "import math\n",
    "name = 'Thaís Martin Baramarchi'\n",
    "print(name)\n",
    "li = [0]*len(name)\n",
    "\n",
    "def convert(_):\n",
    "    for i in range(0,len(name)):\n",
    "        a = ord(name[i])\n",
    "        li[i] = a\n",
    "    product = math.prod(li)\n",
    "    random.seed(2)\n",
    "    p = random.randint(len(li),2000000)\n",
    "    xor = product ^ p\n",
    "    xor = hex(xor)\n",
    "    xor = xor[:16]\n",
    "    print(xor)\n",
    "    \n",
    "convert(name)"
   ]
  }
 ],
 "metadata": {
  "kernelspec": {
   "display_name": "Python 3.10.7 64-bit",
   "language": "python",
   "name": "python3"
  },
  "language_info": {
   "codemirror_mode": {
    "name": "ipython",
    "version": 3
   },
   "file_extension": ".py",
   "mimetype": "text/x-python",
   "name": "python",
   "nbconvert_exporter": "python",
   "pygments_lexer": "ipython3",
   "version": "3.10.7"
  },
  "orig_nbformat": 4,
  "vscode": {
   "interpreter": {
    "hash": "1cea4506632fe95fa0a52c6706177ad7ab5386cc316bf87ad8dd5966739875d1"
   }
  }
 },
 "nbformat": 4,
 "nbformat_minor": 2
}
